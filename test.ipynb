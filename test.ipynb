{
 "cells": [
  {
   "cell_type": "code",
   "execution_count": 2,
   "metadata": {},
   "outputs": [
    {
     "ename": "",
     "evalue": "",
     "output_type": "error",
     "traceback": [
      "\u001b[1;31mThe Kernel crashed while executing code in the current cell or a previous cell. \n",
      "\u001b[1;31mPlease review the code in the cell(s) to identify a possible cause of the failure. \n",
      "\u001b[1;31mClick <a href='https://aka.ms/vscodeJupyterKernelCrash'>here</a> for more info. \n",
      "\u001b[1;31mView Jupyter <a href='command:jupyter.viewOutput'>log</a> for further details."
     ]
    }
   ],
   "source": [
    "import torch\n",
    "from tqdm import tqdm\n",
    "import pandas as pd\n",
    "\n",
    "from src.datasets.pharmacophore_eval import match_score\n",
    "from dgl.data.utils import load_graphs\n",
    "from rdkit import Chem\n",
    "import csv\n",
    "from src.eval import sascorer\n",
    "from rdkit.Chem import QED, AllChem\n",
    "import joblib\n"
   ]
  },
  {
   "cell_type": "code",
   "execution_count": null,
   "metadata": {},
   "outputs": [],
   "source": [
    "def process_mol(args):\n",
    "    mol, pp_graph_list, loaded_reg = args\n",
    "    if mol is None:\n",
    "        return (0, 0, 0, 0)  # 如果分子无效，返回默认值\n",
    "    else:\n",
    "        pharma_match_score_list = [match_score(mol, pp_graph) for pp_graph in pp_graph_list]\n",
    "        return (\n",
    "            max(pharma_match_score_list),\n",
    "            sascorer.calculateScore(mol) * 0.1,\n",
    "            QED.default(mol),\n",
    "            loaded_reg.predict([AllChem.GetMorganFingerprintAsBitVect(mol, 2, 1024)]).item()\n",
    "        )"
   ]
  },
  {
   "cell_type": "code",
   "execution_count": null,
   "metadata": {},
   "outputs": [],
   "source": [
    "pp_graph_list, _ = load_graphs(\"./data/PDK1_pdb/pdk1_phar_graphs.bin\")\n",
    "for pp_graph in pp_graph_list:\n",
    "    pp_graph.ndata['h'] = \\\n",
    "        torch.cat((pp_graph.ndata['type'], pp_graph.ndata['size'].reshape(-1, 1)), dim=1).float()\n",
    "    pp_graph.edata['h'] = pp_graph.edata['dist'].reshape(-1, 1).float()\n",
    "loaded_reg = joblib.load('./data/stacking_regressor_model.pkl')\n",
    "suppl = Chem.SDMolSupplier('./data/csd/raw/CSD_process.sdf', removeHs=False, sanitize=True)\n",
    "mols = [mol for mol in suppl][167288:]\n",
    "test_dataset = './data/csd/raw/CSD_prop.csv'\n",
    "with open(test_dataset, 'a', newline='') as csvfile:\n",
    "    writer = csv.writer(csvfile, delimiter=',')\n",
    "    for mol in tqdm(mols, total=len(mols)):\n",
    "        arg = mol, pp_graph_list, loaded_reg\n",
    "        result = process_mol(arg)\n",
    "        writer.writerow(result)\n",
    "    writer.close()"
   ]
  },
  {
   "cell_type": "code",
   "execution_count": null,
   "metadata": {},
   "outputs": [],
   "source": [
    "pp_graph_list1, _ = load_graphs(\"./data/glp1_phar_graphs.bin\")\n",
    "for pp_graph1 in pp_graph_list1:\n",
    "    pp_graph1.ndata['h'] = \\\n",
    "        torch.cat((pp_graph1.ndata['type'], pp_graph1.ndata['size'].reshape(-1, 1)), dim=1).float()\n",
    "    pp_graph1.edata['h'] = pp_graph1.edata['dist'].reshape(-1, 1).float()\n",
    "pp_graph_list2, _ = load_graphs(\"./data/cav32_phar_graphs.bin\")\n",
    "for pp_graph in pp_graph_list2:\n",
    "    pp_graph.ndata['h'] = \\\n",
    "        torch.cat((pp_graph.ndata['type'], pp_graph.ndata['size'].reshape(-1, 1)), dim=1).float()\n",
    "    pp_graph.edata['h'] = pp_graph.edata['dist'].reshape(-1, 1).float()\n",
    "test_dataset = './data/moses/moses_val.csv'\n",
    "test_data = pd.read_csv(test_dataset)\n",
    "with open('./data/moses/moses_val.csv', 'r+', newline='') as csvfile:\n",
    "    reader = csv.reader(csvfile)\n",
    "    with open('./data/moses/moses_val1.csv', 'a', newline='') as csvfile1:\n",
    "        writer = csv.writer(csvfile1, delimiter=',')\n",
    "        writer.writerow([\"smiles\",\"pharma_score\",\"SA\",\"QED\", \"acute_tox\", \"glp1_score\", 'cav32_score'])\n",
    "        for row in tqdm(list(reader)):\n",
    "            mol = Chem.MolFromSmiles(row[0])\n",
    "            d1 = max([match_score(mol, pp_graph1) for pp_graph1 in pp_graph_list1])\n",
    "            row.append(d1)\n",
    "            d2 = max([match_score(mol, pp_graph2) for pp_graph2 in pp_graph_list2])\n",
    "            row.append(d2)\n",
    "            writer.writerow(row)"
   ]
  },
  {
   "cell_type": "code",
   "execution_count": null,
   "metadata": {},
   "outputs": [],
   "source": [
    "def process_mol(args):\n",
    "    smiles, pp_graph_list, loaded_reg = args\n",
    "    mol = Chem.MolFromSmiles(smiles)\n",
    "    if mol is None:\n",
    "        return (smiles, 0, 0, 0, 0)  # 如果分子无效，返回默认值\n",
    "    else:\n",
    "        pharma_match_score_list = [match_score(mol, pp_graph) for pp_graph in pp_graph_list]\n",
    "        return (\n",
    "            smiles,\n",
    "            max(pharma_match_score_list),\n",
    "            sascorer.calculateScore(mol) * 0.1,\n",
    "            QED.default(mol),\n",
    "            loaded_reg.predict([AllChem.GetMorganFingerprintAsBitVect(mol, 2, 1024)]).item())"
   ]
  },
  {
   "cell_type": "code",
   "execution_count": null,
   "metadata": {},
   "outputs": [],
   "source": [
    "pp_graph_list, _ = load_graphs(\"/raid/yyw/PharmDiGress/data/PDK1_pdb/pdk1_phar_graphs.bin\")\n",
    "for pp_graph in pp_graph_list:\n",
    "    pp_graph.ndata['h'] = \\\n",
    "        torch.cat((pp_graph.ndata['type'], pp_graph.ndata['size'].reshape(-1, 1)), dim=1).float()\n",
    "    pp_graph.edata['h'] = pp_graph.edata['dist'].reshape(-1, 1).float()\n",
    "loaded_reg = joblib.load('/raid/yyw/PharmDiGress/data/stacking_regressor_model.pkl')"
   ]
  },
  {
   "cell_type": "code",
   "execution_count": null,
   "metadata": {},
   "outputs": [],
   "source": [
    "import csv\n",
    "val_dataset = '/raid/yyw/PharmDiGress/data/moses/moses_pyg/raw/test.csv'\n",
    "val_data = pd.read_csv(val_dataset)\n",
    "with open('/raid/yyw/PharmDiGress/data/moses/moses_pyg/raw/moses_val.csv', 'a', newline='') as csvfile:\n",
    "    writer = csv.writer(csvfile, delimiter=',')\n",
    "    writer.writerow([\"smiles\",\"pharma_score\",\"SA\",\"QED\", \"acute_tox\"])\n",
    "    with multiprocessing.Pool(10) as pool:\n",
    "        # 使用 tqdm 迭代并监视分子列表\n",
    "        for result in tqdm(pool.imap_unordered(process_mol, [(smiles, pp_graph_list, loaded_reg) for smiles in val_data['SMILES'].values]), total=len(val_data['SMILES'].values)):\n",
    "            writer.writerow(result)\n",
    "\n",
    "        pool.close()\n",
    "    writer.close()"
   ]
  },
  {
   "cell_type": "code",
   "execution_count": null,
   "metadata": {},
   "outputs": [],
   "source": [
    "from rdkit import Chem"
   ]
  },
  {
   "cell_type": "code",
   "execution_count": null,
   "metadata": {},
   "outputs": [],
   "source": [
    "smiles = 'CC1=C(C(C)=O)C(N(C(CC)CC)C2=NC(NC3=NC=C(N4CCNCC4)C=C3)=NC=C12)=O'"
   ]
  },
  {
   "cell_type": "code",
   "execution_count": null,
   "metadata": {},
   "outputs": [],
   "source": [
    "mol = Chem.MolFromSmiles(smiles)"
   ]
  },
  {
   "cell_type": "code",
   "execution_count": null,
   "metadata": {},
   "outputs": [],
   "source": [
    "mol"
   ]
  },
  {
   "cell_type": "code",
   "execution_count": null,
   "metadata": {},
   "outputs": [],
   "source": [
    "mol_frags = Chem.rdmolops.GetMolFrags(mol, asMols=True, sanitizeFrags=True)"
   ]
  },
  {
   "cell_type": "code",
   "execution_count": null,
   "metadata": {},
   "outputs": [],
   "source": [
    "largest_mol = max(mol_frags, default=mol, key=lambda m: m.GetNumAtoms())"
   ]
  },
  {
   "cell_type": "code",
   "execution_count": null,
   "metadata": {},
   "outputs": [],
   "source": [
    "largest_mol"
   ]
  },
  {
   "cell_type": "code",
   "execution_count": null,
   "metadata": {},
   "outputs": [],
   "source": []
  }
 ],
 "metadata": {
  "kernelspec": {
   "display_name": "digress",
   "language": "python",
   "name": "python3"
  },
  "language_info": {
   "codemirror_mode": {
    "name": "ipython",
    "version": 3
   },
   "file_extension": ".py",
   "mimetype": "text/x-python",
   "name": "python",
   "nbconvert_exporter": "python",
   "pygments_lexer": "ipython3",
   "version": "3.9.18"
  }
 },
 "nbformat": 4,
 "nbformat_minor": 2
}
